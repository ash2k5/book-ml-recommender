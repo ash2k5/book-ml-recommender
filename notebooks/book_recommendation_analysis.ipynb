{
 "cells": [
  {
   "cell_type": "markdown",
   "metadata": {},
   "source": [
    "# Book Recommendation System - ML Analysis\n",
    "\n",
    "This notebook demonstrates the machine learning approach for building a content-based book recommendation system.\n",
    "\n",
    "## Approach\n",
    "1. **Data Collection**: Load and explore book dataset\n",
    "2. **Feature Engineering**: Create TF-IDF vectors from book descriptions\n",
    "3. **Similarity Calculation**: Use cosine similarity to find similar books\n",
    "4. **Model Evaluation**: Assess recommendation quality\n",
    "5. **Visualization**: Show insights and results"
   ]
  },
  {
   "cell_type": "code",
   "execution_count": null,
   "metadata": {},
   "outputs": [],
   "source": [
    "# Import required libraries\n",
    "import pandas as pd\n",
    "import numpy as np\n",
    "import matplotlib.pyplot as plt\n",
    "import seaborn as sns\n",
    "from sklearn.feature_extraction.text import TfidfVectorizer\n",
    "from sklearn.metrics.pairwise import cosine_similarity\n",
    "from sklearn.decomposition import PCA\n",
    "import pickle\n",
    "import os\n",
    "\n",
    "# Set plotting style\n",
    "plt.style.use('default')\n",
    "sns.set_palette('husl')\n",
    "\n",
    "print(\"Libraries imported successfully!\")"
   ]
  },
  {
   "cell_type": "markdown",
   "metadata": {},
   "source": [
    "## 1. Data Loading and Exploration"
   ]
  },
  {
   "cell_type": "code",
   "execution_count": null,
   "metadata": {},
   "outputs": [],
   "source": [
    "# Load the dataset\n",
    "books_df = pd.read_csv('../data/books.csv')\n",
    "\n",
    "print(f\"Dataset shape: {books_df.shape}\")\n",
    "print(f\"Columns: {list(books_df.columns)}\")\n",
    "\n",
    "# Display first few rows\n",
    "books_df.head()"
   ]
  },
  {
   "cell_type": "code",
   "execution_count": null,
   "metadata": {},
   "outputs": [],
   "source": [
    "# Basic statistics\n",
    "print(\"Dataset Info:\")\n",
    "print(books_df.info())\n",
    "print(\"\\nMissing values:\")\n",
    "print(books_df.isnull().sum())\n",
    "print(\"\\nBasic statistics:\")\n",
    "print(books_df.describe())"
   ]
  },
  {
   "cell_type": "code",
   "execution_count": null,
   "metadata": {},
   "outputs": [],
   "source": [
    "# Visualize distribution of ratings and publication years\n",
    "fig, axes = plt.subplots(1, 2, figsize=(12, 5))\n",
    "\n",
    "# Rating distribution\n",
    "axes[0].hist(books_df['rating'], bins=20, alpha=0.7, color='skyblue')\n",
    "axes[0].set_title('Distribution of Book Ratings')\n",
    "axes[0].set_xlabel('Rating')\n",
    "axes[0].set_ylabel('Frequency')\n",
    "\n",
    "# Year distribution\n",
    "axes[1].hist(books_df['year'], bins=20, alpha=0.7, color='lightgreen')\n",
    "axes[1].set_title('Distribution of Publication Years')\n",
    "axes[1].set_xlabel('Year')\n",
    "axes[1].set_ylabel('Frequency')\n",
    "\n",
    "plt.tight_layout()\n",
    "plt.show()"
   ]
  },
  {
   "cell_type": "code",
   "execution_count": null,
   "metadata": {},
   "outputs": [],
   "source": [
    "# Genre distribution\n",
    "genre_counts = books_df['genre'].value_counts()\n",
    "\n",
    "plt.figure(figsize=(10, 6))\n",
    "genre_counts.plot(kind='bar', color='coral')\n",
    "plt.title('Distribution of Book Genres')\n",
    "plt.xlabel('Genre')\n",
    "plt.ylabel('Number of Books')\n",
    "plt.xticks(rotation=45)\n",
    "plt.tight_layout()\n",
    "plt.show()"
   ]
  },
  {
   "cell_type": "markdown",
   "metadata": {},
   "source": [
    "## 2. Feature Engineering - TF-IDF Vectorization"
   ]
  },
  {
   "cell_type": "code",
   "execution_count": null,
   "metadata": {},
   "outputs": [],
   "source": [
    "# Combine relevant text features for content-based filtering\n",
    "books_df['combined_features'] = (\n",
    "    books_df['title'].fillna('') + ' ' +\n",
    "    books_df['author'].fillna('') + ' ' +\n",
    "    books_df['genre'].fillna('') + ' ' +\n",
    "    books_df['description'].fillna('')\n",
    ")\n",
    "\n",
    "print(\"Sample combined features:\")\n",
    "for i in range(3):\n",
    "    print(f\"Book {i+1}: {books_df['combined_features'].iloc[i][:100]}...\")\n",
    "    print()"
   ]
  },
  {
   "cell_type": "code",
   "execution_count": null,
   "metadata": {},
   "outputs": [],
   "source": [
    "# Create TF-IDF vectorizer\n",
    "tfidf = TfidfVectorizer(\n",
    "    max_features=1000,  # Limit features for demonstration\n",
    "    stop_words='english',\n",
    "    ngram_range=(1, 2),  # Use unigrams and bigrams\n",
    "    min_df=1,\n",
    "    max_df=0.8\n",
    ")\n",
    "\n",
    "# Fit and transform the combined features\n",
    "tfidf_matrix = tfidf.fit_transform(books_df['combined_features'])\n",
    "\n",
    "print(f\"TF-IDF matrix shape: {tfidf_matrix.shape}\")\n",
    "print(f\"Number of features: {len(tfidf.get_feature_names_out())}\")\n",
    "print(f\"Matrix sparsity: {(1 - (tfidf_matrix.nnz / (tfidf_matrix.shape[0] * tfidf_matrix.shape[1]))) * 100:.2f}%\")"
   ]
  },
  {
   "cell_type": "code",
   "execution_count": null,
   "metadata": {},
   "outputs": [],
   "source": [
    "# Show top TF-IDF features\n",
    "feature_names = tfidf.get_feature_names_out()\n",
    "mean_scores = np.array(tfidf_matrix.mean(axis=0)).flatten()\n",
    "top_features = [(feature_names[i], mean_scores[i]) for i in mean_scores.argsort()[::-1][:20]]\n",
    "\n",
    "print(\"Top 20 TF-IDF features:\")\n",
    "for feature, score in top_features:\n",
    "    print(f\"{feature}: {score:.4f}\")"
   ]
  },
  {
   "cell_type": "markdown",
   "metadata": {},
   "source": [
    "## 3. Similarity Calculation"
   ]
  },
  {
   "cell_type": "code",
   "execution_count": null,
   "metadata": {},
   "outputs": [],
   "source": [
    "# Calculate cosine similarity matrix\n",
    "cosine_sim = cosine_similarity(tfidf_matrix, tfidf_matrix)\n",
    "\n",
    "print(f\"Similarity matrix shape: {cosine_sim.shape}\")\n",
    "print(f\"Average similarity score: {cosine_sim.mean():.4f}\")\n",
    "print(f\"Similarity score std: {cosine_sim.std():.4f}\")"
   ]
  },
  {
   "cell_type": "code",
   "execution_count": null,
   "metadata": {},
   "outputs": [],
   "source": [
    "# Visualize similarity matrix\n",
    "plt.figure(figsize=(10, 8))\n",
    "sns.heatmap(cosine_sim, cmap='viridis', square=True, cbar_kws={'label': 'Cosine Similarity'})\n",
    "plt.title('Book Similarity Matrix')\n",
    "plt.xlabel('Book Index')\n",
    "plt.ylabel('Book Index')\n",
    "plt.show()"
   ]
  },
  {
   "cell_type": "code",
   "execution_count": null,
   "metadata": {},
   "outputs": [],
   "source": [
    "# Distribution of similarity scores\n",
    "plt.figure(figsize=(10, 6))\n",
    "\n",
    "# Get upper triangle of similarity matrix (excluding diagonal)\n",
    "upper_triangle = cosine_sim[np.triu_indices_from(cosine_sim, k=1)]\n",
    "\n",
    "plt.hist(upper_triangle, bins=50, alpha=0.7, color='lightblue', edgecolor='black')\n",
    "plt.title('Distribution of Cosine Similarity Scores')\n",
    "plt.xlabel('Cosine Similarity')\n",
    "plt.ylabel('Frequency')\n",
    "plt.axvline(upper_triangle.mean(), color='red', linestyle='--', label=f'Mean: {upper_triangle.mean():.3f}')\n",
    "plt.legend()\n",
    "plt.show()\n",
    "\n",
    "print(f\"Min similarity: {upper_triangle.min():.4f}\")\n",
    "print(f\"Max similarity: {upper_triangle.max():.4f}\")\n",
    "print(f\"Mean similarity: {upper_triangle.mean():.4f}\")"
   ]
  },
  {
   "cell_type": "markdown",
   "metadata": {},
   "source": [
    "## 4. Recommendation Function"
   ]
  },
  {
   "cell_type": "code",
   "execution_count": null,
   "metadata": {},
   "outputs": [],
   "source": [
    "def get_recommendations(book_title, cosine_sim=cosine_sim, df=books_df, n_recommendations=5):\n",
    "    \"\"\"Get book recommendations based on cosine similarity\"\"\"\n",
    "    \n",
    "    # Get the index of the book that matches the title\n",
    "    try:\n",
    "        idx = df[df['title'] == book_title].index[0]\n",
    "    except IndexError:\n",
    "        print(f\"Book '{book_title}' not found in dataset\")\n",
    "        return []\n",
    "    \n",
    "    # Get similarity scores for all books\n",
    "    sim_scores = list(enumerate(cosine_sim[idx]))\n",
    "    \n",
    "    # Sort books based on similarity scores\n",
    "    sim_scores = sorted(sim_scores, key=lambda x: x[1], reverse=True)\n",
    "    \n",
    "    # Get the scores of the most similar books (excluding the book itself)\n",
    "    sim_scores = sim_scores[1:n_recommendations+1]\n",
    "    \n",
    "    # Get the book indices\n",
    "    book_indices = [i[0] for i in sim_scores]\n",
    "    \n",
    "    # Get similarity scores\n",
    "    similarity_scores = [i[1] for i in sim_scores]\n",
    "    \n",
    "    # Return the most similar books with scores\n",
    "    recommendations = df.iloc[book_indices].copy()\n",
    "    recommendations['similarity_score'] = similarity_scores\n",
    "    \n",
    "    return recommendations[['title', 'author', 'genre', 'rating', 'similarity_score']]"
   ]
  },
  {
   "cell_type": "code",
   "execution_count": null,
   "metadata": {},
   "outputs": [],
   "source": [
    "# Test recommendations for a sample book\n",
    "sample_book = books_df['title'].iloc[0]\n",
    "print(f\"Getting recommendations for: '{sample_book}'\")\n",
    "print()\n",
    "\n",
    "recommendations = get_recommendations(sample_book)\n",
    "print(\"Recommended books:\")\n",
    "print(recommendations.to_string(index=False))"
   ]
  },
  {
   "cell_type": "markdown",
   "metadata": {},
   "source": [
    "## 5. Model Evaluation"
   ]
  },
  {
   "cell_type": "code",
   "execution_count": null,
   "metadata": {},
   "outputs": [],
   "source": [
    "# Analyze recommendation quality by genre similarity\n",
    "def evaluate_genre_consistency():\n",
    "    \"\"\"Evaluate how often recommendations share the same genre as the target book\"\"\"\n",
    "    \n",
    "    genre_matches = []\n",
    "    \n",
    "    for i, book_title in enumerate(books_df['title']):\n",
    "        target_genre = books_df.iloc[i]['genre']\n",
    "        recs = get_recommendations(book_title, n_recommendations=3)\n",
    "        \n",
    "        if not recs.empty:\n",
    "            genre_match_count = sum(recs['genre'] == target_genre)\n",
    "            genre_match_ratio = genre_match_count / len(recs)\n",
    "            genre_matches.append(genre_match_ratio)\n",
    "    \n",
    "    return genre_matches\n",
    "\n",
    "genre_consistency = evaluate_genre_consistency()\n",
    "avg_genre_consistency = np.mean(genre_consistency)\n",
    "\n",
    "print(f\"Average genre consistency: {avg_genre_consistency:.2f}\")\n",
    "print(f\"This means {avg_genre_consistency*100:.1f}% of recommendations share the same genre as the target book\")"
   ]
  },
  {
   "cell_type": "code",
   "execution_count": null,
   "metadata": {},
   "outputs": [],
   "source": [
    "# Visualize genre consistency\n",
    "plt.figure(figsize=(10, 6))\n",
    "plt.hist(genre_consistency, bins=10, alpha=0.7, color='lightcoral', edgecolor='black')\n",
    "plt.title('Distribution of Genre Consistency in Recommendations')\n",
    "plt.xlabel('Genre Match Ratio')\n",
    "plt.ylabel('Number of Books')\n",
    "plt.axvline(avg_genre_consistency, color='red', linestyle='--', \n",
    "            label=f'Average: {avg_genre_consistency:.2f}')\n",
    "plt.legend()\n",
    "plt.show()"
   ]
  },
  {
   "cell_type": "markdown",
   "metadata": {},
   "source": [
    "## 6. Dimensionality Reduction Visualization"
   ]
  },
  {
   "cell_type": "code",
   "execution_count": null,
   "metadata": {},
   "outputs": [],
   "source": [
    "# Use PCA to visualize books in 2D space\n",
    "pca = PCA(n_components=2, random_state=42)\n",
    "book_embeddings_2d = pca.fit_transform(tfidf_matrix.toarray())\n",
    "\n",
    "print(f\"Explained variance ratio: {pca.explained_variance_ratio_}\")\n",
    "print(f\"Total explained variance: {pca.explained_variance_ratio_.sum():.3f}\")"
   ]
  },
  {
   "cell_type": "code",
   "execution_count": null,
   "metadata": {},
   "outputs": [],
   "source": [
    "# Create a scatter plot colored by genre\n",
    "plt.figure(figsize=(12, 8))\n",
    "\n",
    "# Get unique genres for color mapping\n",
    "unique_genres = books_df['genre'].unique()\n",
    "colors = plt.cm.Set3(np.linspace(0, 1, len(unique_genres)))\n",
    "\n",
    "for i, genre in enumerate(unique_genres):\n",
    "    mask = books_df['genre'] == genre\n",
    "    plt.scatter(book_embeddings_2d[mask, 0], book_embeddings_2d[mask, 1], \n",
    "               c=[colors[i]], label=genre, alpha=0.7, s=100)\n",
    "\n",
    "plt.title('Book Embeddings in 2D Space (PCA)', fontsize=16)\n",
    "plt.xlabel(f'First Principal Component ({pca.explained_variance_ratio_[0]:.1%} variance)')\n",
    "plt.ylabel(f'Second Principal Component ({pca.explained_variance_ratio_[1]:.1%} variance)')\n",
    "plt.legend(bbox_to_anchor=(1.05, 1), loc='upper left')\n",
    "plt.grid(True, alpha=0.3)\n",
    "plt.tight_layout()\n",
    "plt.show()"
   ]
  },
  {
   "cell_type": "markdown",
   "metadata": {},
   "source": [
    "## 7. Save Model Components"
   ]
  },
  {
   "cell_type": "code",
   "execution_count": null,
   "metadata": {},
   "outputs": [],
   "source": [
    "# Create models directory\n",
    "os.makedirs('../models', exist_ok=True)\n",
    "\n",
    "# Save TF-IDF matrix\n",
    "with open('../models/tfidf_matrix.pkl', 'wb') as f:\n",
    "    pickle.dump(tfidf_matrix, f)\n",
    "\n",
    "# Save TF-IDF vectorizer\n",
    "with open('../models/tfidf_vectorizer.pkl', 'wb') as f:\n",
    "    pickle.dump(tfidf, f)\n",
    "\n",
    "# Save similarity matrix\n",
    "with open('../models/cosine_similarity.pkl', 'wb') as f:\n",
    "    pickle.dump(cosine_sim, f)\n",
    "\n",
    "print(\"Model components saved successfully!\")"
   ]
  },
  {
   "cell_type": "markdown",
   "metadata": {},
   "source": [
    "## 8. Summary and Next Steps\n",
    "\n",
    "### What we accomplished:\n",
    "1. ✅ **Data Analysis**: Explored book dataset and visualized distributions\n",
    "2. ✅ **Feature Engineering**: Created TF-IDF vectors from book text content\n",
    "3. ✅ **Similarity Calculation**: Used cosine similarity for content-based filtering\n",
    "4. ✅ **Model Evaluation**: Assessed recommendation quality using genre consistency\n",
    "5. ✅ **Visualization**: Used PCA to visualize book embeddings in 2D space\n",
    "\n",
    "### Key Findings:\n",
    "- The model achieves good genre consistency in recommendations\n",
    "- TF-IDF effectively captures book content similarity\n",
    "- PCA visualization shows clustering of similar genres\n",
    "\n",
    "### Potential Improvements:\n",
    "1. **Collaborative Filtering**: Add user rating data for collaborative recommendations\n",
    "2. **Deep Learning**: Use embeddings from pre-trained language models\n",
    "3. **Hybrid Approach**: Combine content-based and collaborative filtering\n",
    "4. **Evaluation Metrics**: Implement precision@K, recall@K, and NDCG\n",
    "5. **A/B Testing**: Test different algorithms in production\n",
    "\n",
    "This notebook demonstrates a solid foundation for a content-based recommendation system using traditional ML techniques!"
   ]
  }
 ],
 "metadata": {
  "kernelspec": {
   "display_name": "Python 3",
   "language": "python",
   "name": "python3"
  },
  "language_info": {
   "codemirror_mode": {
    "name": "ipython",
    "version": 3
   },
   "file_extension": ".py",
   "mimetype": "text/x-python",
   "name": "python",
   "nbconvert_exporter": "python",
   "pygments_lexer": "ipython3",
   "version": "3.8.0"
  }
 },
 "nbformat": 4,
 "nbformat_minor": 4
}